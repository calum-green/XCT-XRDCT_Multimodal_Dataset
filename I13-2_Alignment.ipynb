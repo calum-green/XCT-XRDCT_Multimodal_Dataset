{
 "cells": [
  {
   "cell_type": "code",
   "execution_count": null,
   "id": "0e90379e-a948-4076-8632-96e86fc01cb7",
   "metadata": {},
   "outputs": [],
   "source": [
    "# This Jupyter notebook describes the process used to align the I13-2 XCT data across four resolutions"
   ]
  },
  {
   "cell_type": "code",
   "execution_count": null,
   "id": "85ec0b26-283c-43c6-8f45-02ba70b944ff",
   "metadata": {},
   "outputs": [],
   "source": [
    "# It is recommended to use a machine with a large amount of RAM (128GB+) to load the data and run this notebook"
   ]
  },
  {
   "cell_type": "code",
   "execution_count": null,
   "id": "93543b38-3d27-4d02-b2ad-89d31d5d4184",
   "metadata": {},
   "outputs": [],
   "source": [
    "# The notebook describe how to load the data, align the data and plot with the same colormap"
   ]
  },
  {
   "cell_type": "code",
   "execution_count": null,
   "id": "6853b54d-f5e4-49e4-be79-82564778ff27",
   "metadata": {},
   "outputs": [],
   "source": [
    "#imports - needed for loading, processing and visualising\n",
    "\n",
    "import numpy as np\n",
    "import h5py\n",
    "import matplotlib.pyplot as plt\n",
    "from skimage.metrics import structural_similarity as ssim\n",
    "from matplotlib.colors import Normalize"
   ]
  },
  {
   "cell_type": "code",
   "execution_count": null,
   "id": "15302a9a-742a-449b-9d09-228ca62ab271",
   "metadata": {},
   "outputs": [],
   "source": [
    "# Create a Custom Normalise class that allows creation of custom colormaps that makes all resolution look the same visually\n",
    "# vmin and vmax values have been manually taken from loading data into ImageJ and adjusting brightness/contrast\n",
    "\n",
    "class CustomNormalize(Normalize):\n",
    "    def __init__(self, vmin=None, vmax=None, clip=False):\n",
    "        super().__init__(vmin, vmax, clip)\n",
    "    \n",
    "    def __call__(self, value, clip=None):\n",
    "        result = super().__call__(value, clip)\n",
    "        return result\n",
    "\n",
    "colormap = plt.cm.gray\n",
    "\n",
    "norm26 = CustomNormalize(vmin=-5.41e-4,vmax=1.68e-3)\n",
    "norm16 = CustomNormalize(vmin=-5.23e-4,vmax=1.11e-3)\n",
    "norm81 = CustomNormalize(vmin=-2.50e-4,vmax=6.79e-4)"
   ]
  },
  {
   "cell_type": "code",
   "execution_count": null,
   "id": "1645fd97-ef23-4000-a164-71a3648acf5b",
   "metadata": {},
   "outputs": [],
   "source": [
    "#create a function that takes a filename and loads the data\n",
    "\n",
    "def data_loader(filename):\n",
    "    \"\"\"\"\n",
    "    Loads the reconstructed data from the .h5 file and tranpsoses it\n",
    "    \"\"\"\n",
    "\n",
    "    loaded_data = np.transpose(h5py.File(filename,'r')['4-TomopyRecon-tomo']['data'],(1,2,0))\n",
    "\n",
    "    return loaded_data"
   ]
  },
  {
   "cell_type": "code",
   "execution_count": null,
   "id": "9ccd9f67-df89-49fa-9c81-41c7c5d77b11",
   "metadata": {},
   "outputs": [],
   "source": [
    "# Lets load the 2.6 micron XCT data and plot a slice\n",
    "file_26 = '169068_recon.h5'\n",
    "data_26 = data_loader(file_26)"
   ]
  },
  {
   "cell_type": "code",
   "execution_count": null,
   "id": "767e75dd-a376-4745-9ded-d12ad71d1b58",
   "metadata": {},
   "outputs": [],
   "source": [
    "plt.imshow(data_26[934][1102:1502,1006:1406],cmap='gray')\n",
    "plt.show()"
   ]
  },
  {
   "cell_type": "code",
   "execution_count": null,
   "id": "0651677f-5f9f-4623-af9d-faef7131531c",
   "metadata": {},
   "outputs": [],
   "source": [
    "# Now plot a similar looking slice from the 1.625 micron data\n",
    "\n",
    "file_16 = '169067_recon.h5'\n",
    "data_16 = data_loader(file_16)"
   ]
  },
  {
   "cell_type": "code",
   "execution_count": null,
   "id": "6762fbf1-ac20-41f9-8ef0-9a473903218d",
   "metadata": {},
   "outputs": [],
   "source": [
    "plt.imshow(data_16[894][1010:1650,858:1498],cmap='gray')\n",
    "plt.show()"
   ]
  },
  {
   "cell_type": "code",
   "execution_count": null,
   "id": "3d4b626d-25af-49ee-beeb-a35b1832edbf",
   "metadata": {},
   "outputs": [],
   "source": [
    "# Create a function that uses SSIM as a basis of good alignment - scanning over each dimension\n",
    "\n",
    "def best_align(data_16, data_26, scan_range=50, image_range=50):\n",
    "    ssims = [0]\n",
    "    for i in range(image_range):\n",
    "        for j in range(scan_range):\n",
    "            for k in range(scan_range):\n",
    "                slice_16 = data_16[894][1010:1650,858:1498][::8,::8]\n",
    "                slice_26 = data_26[934-image_range//2+i][1100-scan_range//2+k:1500-scan_range//2+k,1006-scan_range//2+j:1406-scan_range//2+j][::5,::5]\n",
    "\n",
    "                ssim_value = ssim(slice_16,slice_26,data_range = 0.01)\n",
    "                if ssim_value > ssims[-1]:\n",
    "                    print(f\"SSIM = {ssim_value}, i={i}, j={j},k={k}\")\n",
    "                    ssims += [ssim_value]\n",
    "                    fig,ax = plt.subplots(1,2,figsize=(12,12))\n",
    "                    ax[0].imshow(slice_16,cmap='gray')\n",
    "                    ax[1].imshow(slice_26,cmap='gray')\n",
    "                    plt.show()\n",
    "                    print(f\"The best alignment is between data_26[{934-image_range//2+i}][{1100-scan_range//2+k}:{1500-scan_range//2+k},{1006-scan_range//2+j}:{1406-scan_range//2+j}] and data_16[894][1010:1650,858:1498]\")"
   ]
  },
  {
   "cell_type": "code",
   "execution_count": null,
   "id": "eb1229c0-ef2f-41dd-a644-705265d9af58",
   "metadata": {
    "scrolled": true
   },
   "outputs": [],
   "source": [
    "best_align(data_16,data_26)"
   ]
  },
  {
   "cell_type": "code",
   "execution_count": null,
   "id": "9095db5d-151e-4365-b902-0263b9162214",
   "metadata": {},
   "outputs": [],
   "source": [
    "# The best SSIM gives the following:\n",
    "\n",
    "fig, ax = plt.subplots(1,2,figsize=(20,20))\n",
    "ax[0].imshow(data_16[894][1010:1650,858:1498],cmap=colormap,norm=norm16)\n",
    "ax[0].set_title('1.625 Micron Pixel-Size')\n",
    "ax[0].axis('off')\n",
    "ax[1].imshow(data_26[934][1102:1502,1006:1406],cmap=colormap,norm=norm26)\n",
    "ax[1].set_title('2.6 Micron Pixel-Size')\n",
    "ax[1].axis('off')\n",
    "plt.show()"
   ]
  },
  {
   "cell_type": "code",
   "execution_count": null,
   "id": "5f54195c-4a17-46eb-898c-dae6ed1fe045",
   "metadata": {},
   "outputs": [],
   "source": [
    "# Load the 0.8125 micron data\n",
    "\n",
    "file_81 = '169066_recon.h5'\n",
    "data_81 = data_loader(file_81)\n"
   ]
  },
  {
   "cell_type": "code",
   "execution_count": null,
   "id": "f4010786-56f1-438d-9d7d-7aafb6fc7135",
   "metadata": {},
   "outputs": [],
   "source": [
    "plt.imshow(data_81[798][760:2040,480:1760],cmap='gray')\n",
    "plt.show()"
   ]
  },
  {
   "cell_type": "code",
   "execution_count": null,
   "id": "1a078d56-d783-42ef-9603-2a08d962ed50",
   "metadata": {},
   "outputs": [],
   "source": [
    "def best_align(data_81, data_16, scan_range=50, image_range=50):\n",
    "    ssims = [0]\n",
    "    for i in range(image_range):\n",
    "        for j in range(scan_range):\n",
    "            for k in range(scan_range):\n",
    "                slice_16 = data_16[894][1010:1650,858:1498]\n",
    "                slice_81 = data_81[798 - image_range//2 + i][760 - scan_range//2 + k:2040-scan_range//2+k,480-scan_range//2+j:1760-scan_range//2+j][::2,::2]\n",
    "\n",
    "                ssim_value = ssim(slice_16,slice_81,data_range = 0.01)\n",
    "                if ssim_value > ssims[-1]:\n",
    "                    print(f\"SSIM = {ssim_value}, i={i}, j={j},k={k}\")\n",
    "                    ssims += [ssim_value]\n",
    "                    fig,ax = plt.subplots(1,2,figsize=(12,12))\n",
    "                    ax[0].imshow(slice_16,cmap='gray')\n",
    "                    ax[1].imshow(slice_81,cmap='gray')\n",
    "                    plt.show()\n",
    "                    print(f\"The best alignment is between data_81[{798 - image_range//2 + i}][{760 - scan_range//2 + k}:{2040-scan_range//2+k},{480-scan_range//2+j}:{1760-scan_range//2+j}] and data_16[894][1010:1650,858:1498]\")"
   ]
  },
  {
   "cell_type": "code",
   "execution_count": null,
   "id": "725a8ecd-3fda-4983-afb6-3b85abed3cb8",
   "metadata": {
    "scrolled": true
   },
   "outputs": [],
   "source": [
    "best_align(data_81, data_16)"
   ]
  },
  {
   "cell_type": "code",
   "execution_count": null,
   "id": "0820c94e-8608-4aad-b4ed-154026dfd8b9",
   "metadata": {},
   "outputs": [],
   "source": [
    "fig,ax = plt.subplots(1,2,figsize=(20,20))\n",
    "ax[0].imshow(data_16[894][1010:1650,858:1498],cmap=colormap,norm=norm16)\n",
    "ax[1].imshow(data_81[804][763:2043,466:1746],cmap=colormap,norm=norm81)\n",
    "plt.show()"
   ]
  },
  {
   "cell_type": "code",
   "execution_count": null,
   "id": "83c16f23-aa64-49a4-b517-8c4005ffc674",
   "metadata": {},
   "outputs": [],
   "source": [
    "# The 0.325 micron image has a smaller FOV than the other resolutions - need to crop the 0.8125 micron to align it\n",
    "\n",
    "file_325 = '169065_recon.h5'\n",
    "data_325 = data_loader(file_325)"
   ]
  },
  {
   "cell_type": "code",
   "execution_count": null,
   "id": "2d79bd45-975c-42d1-9383-b7950cd1107d",
   "metadata": {},
   "outputs": [],
   "source": [
    "# Plot a crop with the original FOV on the 0.325 micron data slice\n",
    "\n",
    "fig,ax = plt.subplots(1,2,figsize=(12,12))\n",
    "ax[0].imshow(data_81[804][750:1750,750:1750],cmap='gray',extent=(0,2500,2500,0))\n",
    "ax[1].imshow(data_325[525][0:2500,0:2500],cmap='gray',extent=(0,2500,2500,0))\n",
    "plt.show()"
   ]
  },
  {
   "cell_type": "code",
   "execution_count": null,
   "id": "b0c8b332-873f-4f65-b05f-f37e74a72004",
   "metadata": {},
   "outputs": [],
   "source": [
    "def best_align(data_325, data_81, scan_range=50, image_range=50):\n",
    "\n",
    "    ssims = [0]\n",
    "    for i in range(image_range):\n",
    "        for j in range(scan_range):\n",
    "            for k in range(scan_range):\n",
    "                slice_325 = data_325[525-image_range//2+i][0:2500,0:2500][::5,::5]\n",
    "                slice_81 = data_81[804][750 - scan_range//2 + k:1750-scan_range//2+k,750-scan_range//2+j:1750-scan_range//2+j][::2,::2]\n",
    "\n",
    "                ssim_value = ssim(slice_325,slice_81,data_range = 0.01)\n",
    "                if ssim_value > ssims[-1]:\n",
    "                    print(f\"SSIM = {ssim_value}, i={i}, j={j},k={k}\")\n",
    "                    ssims += [ssim_value]\n",
    "                    fig,ax = plt.subplots(1,2,figsize=(12,12))\n",
    "                    ax[0].imshow(slice_325,cmap='gray')\n",
    "                    ax[1].imshow(slice_81,cmap='gray')\n",
    "                    plt.show()\n",
    "                    print(f\"The best alignment is between data_81[804][{750 - scan_range//2 + k}:{1750-scan_range//2+k},{750-scan_range//2+j}:{1750-scan_range//2+j}] and data_325[{525-image_range//2+i}][0:2500,0:2500]\")"
   ]
  },
  {
   "cell_type": "code",
   "execution_count": null,
   "id": "6104b5c8-6211-466f-8ae5-632a26037485",
   "metadata": {
    "scrolled": true
   },
   "outputs": [],
   "source": [
    "best_align(data_325,data_81)"
   ]
  },
  {
   "cell_type": "code",
   "execution_count": null,
   "id": "e597fa84-f536-4801-9646-5acf252e3d10",
   "metadata": {},
   "outputs": [],
   "source": [
    "fig,ax = plt.subplots(1,2,figsize=(20,20))\n",
    "ax[0].imshow(data_81[804][753:1753,753:1753], cmap=colormap, norm=norm81)\n",
    "ax[0].set_title('0.8125 Micron Pixel-Size',fontsize=20)\n",
    "ax[1].imshow(data_325[509][0:2500,0:2500], cmap=colormap, norm=norm81)\n",
    "ax[1].set_title('0.325 Micron Pixel-Size',fontsize=20)\n",
    "plt.show()"
   ]
  },
  {
   "cell_type": "code",
   "execution_count": null,
   "id": "3e1cd00d-f9c2-430d-8445-a90ddc0682d1",
   "metadata": {},
   "outputs": [],
   "source": []
  }
 ],
 "metadata": {
  "kernelspec": {
   "display_name": "multimodal-xrdct",
   "language": "python",
   "name": "python3"
  },
  "language_info": {
   "codemirror_mode": {
    "name": "ipython",
    "version": 3
   },
   "file_extension": ".py",
   "mimetype": "text/x-python",
   "name": "python",
   "nbconvert_exporter": "python",
   "pygments_lexer": "ipython3",
   "version": "3.10.8"
  }
 },
 "nbformat": 4,
 "nbformat_minor": 5
}
