{
 "cells": [
  {
   "cell_type": "markdown",
   "id": "13261cd3-b079-450c-aeab-e70297a5e79e",
   "metadata": {},
   "source": [
    "# This notebook describes how the XRD-CT data is reconstructed\n",
    "# Both the 25 micron and 50 micron data will be reconstructed here \n",
    "# Phase-based reconstructions will be performed using powder-XRD data as a basis for phase-specific peaks"
   ]
  },
  {
   "cell_type": "code",
   "execution_count": null,
   "id": "5e094a4b-56c7-41b5-89c1-d05c2080f8fa",
   "metadata": {},
   "outputs": [],
   "source": [
    "# imports\n",
    "\n",
    "import numpy as np\n",
    "from numpy import deg2rad, transpose\n",
    "from h5py import File\n",
    "from tomopy import recon"
   ]
  },
  {
   "cell_type": "code",
   "execution_count": 21,
   "id": "1075de0f-1933-475c-8f90-c380fc283a4b",
   "metadata": {},
   "outputs": [],
   "source": [
    "# 25 Micron XRD-CT\n",
    "# Scans 43322, 43323, 43324, 43325\n",
    "\n",
    "#50 Micron XRD-CT\n",
    "#Scans 43336 -> 43401\n",
    "\n",
    "#Example for file 43322\n",
    "input_file = \"k11-43322-diffraction-DiffInt_Mask_Azz_Txt.nxs\"\n",
    "file_num = input_file.split('-')[1].split('_')[0]\n",
    "output_file_na = f\"output_{file_num}_na.nxs\"\n",
    "output_file_zn = f\"output_{file_num}_zn.nxs\""
   ]
  },
  {
   "cell_type": "code",
   "execution_count": 14,
   "id": "5554dd5f-a37e-4b35-9916-42f6413a554b",
   "metadata": {},
   "outputs": [],
   "source": [
    "# Load the diffraction\n",
    "\n",
    "with File(input_file) as file:\n",
    "    key = file[\"processed/result\"]\n",
    "\n",
    "    data = transpose(key[\"data\"][0],(2,0,1))\n",
    "    # data exists as an image of 80x40 1D patterns with 5000 q values per 1D diffraction pattern\n",
    "\n",
    "    q_avg = np.sum(data, axis=(1,2))\n",
    "    # q_avg sums the intensity for each q_val across all 80x40 1D patterns collected\n",
    "\n",
    "    q = key[\"q\"][:]\n",
    "\n",
    "    angles = deg2rad(key[\"gts_cs_theta\"])"
   ]
  },
  {
   "cell_type": "code",
   "execution_count": 17,
   "id": "cc3fa2ed-9211-49fc-9ba4-10cc780816ca",
   "metadata": {},
   "outputs": [],
   "source": [
    "# The peaks identified from the powder-XRD data\n",
    "\n",
    "zn_peaks = [1.101,1.429,1.656,1.675,1.890, 2.068, 2.144, 2.187, 2.258, 2.370, 2.410, 2.625, 2.857]\n",
    "na_peaks = [1.096, 1.306, 1.423, 1.651, 1.883, 2.059, 2.137, 2.180,2.251, 2.360, 2.401, 2.791, 2.848, 2.881,2.967]\n",
    "\n",
    "# I want to find the peak values closest to above in q in experimental data\n",
    "\n",
    "zn = []\n",
    "zn_idx = []\n",
    "\n",
    "na = []\n",
    "na_idx = []\n",
    "\n",
    "for peak in zn_peaks:\n",
    "    q_val = min(q, key=lambda x:abs(x-peak))\n",
    "    zn += [q_val]\n",
    "    zn_idx += np.where(q==q_val)\n",
    "\n",
    "for peak in na_peaks:\n",
    "    q_val = min(q, key=lambda x:abs(x-peak))\n",
    "    na += [q_val]\n",
    "    na_idx += np.where(q==q_val)"
   ]
  },
  {
   "cell_type": "code",
   "execution_count": null,
   "id": "fdebea5e",
   "metadata": {},
   "outputs": [],
   "source": [
    "# The centre of rotation for the reconstructions needs to be defined\n",
    "# It corresponds to the centre of the sinogram, since the imaging and diffraction beams are centred to the axis of rotation of the sample\n",
    "\n",
    "centre_midpoint = 20    # for 25 micron\n",
    "centre_midpoint = 10    # for 50 micron"
   ]
  },
  {
   "cell_type": "code",
   "execution_count": null,
   "id": "8474544b-7c6d-4238-9950-4471572053af",
   "metadata": {},
   "outputs": [],
   "source": [
    "# Average intensity around the peak, and perform reconstrucuing w/gridrec for all Zn and Na peaks\n",
    "\n",
    "with File(output_file_na, 'w') as file:\n",
    "    for idx, peak in enumerate(na):\n",
    "        data_window_na = np.mean(data[int(na_idx[idx])-1:int(na_idx[idx])+1],axis=0,keepdims=True)\n",
    "        file[f\"entry/peak at q~{np.round(na[idx],3)}\"] = recon(data_window_na, theta = angles, center = centre_midpoint, sinogram_order = True, algorithm = \"gridrec\")\n",
    "\n",
    "with File(output_file_zn, 'w') as file:\n",
    "    for idx, peak in enumerate(zn):\n",
    "        data_window_zn = np.mean(data[int(zn_idx[idx])-1:int(zn_idx[idx])+1],axis=0,keepdims=True)\n",
    "        file[f\"entry/peak at q~{np.round(zn[idx],3)}\"] = recon(data_window_zn, theta = angles, center = centre_midpoint, sinogram_order = True, algorithm = \"gridrec\")"
   ]
  },
  {
   "cell_type": "markdown",
   "id": "8a26686d-ef6b-4d5e-a030-2c7ca0a41d6d",
   "metadata": {},
   "source": [
    "# The NeXus file created here (.nxs) can be loaded into DAWN"
   ]
  },
  {
   "cell_type": "code",
   "execution_count": null,
   "id": "39c30ad7-045d-467e-b4a5-b8988061c4c6",
   "metadata": {},
   "outputs": [],
   "source": []
  }
 ],
 "metadata": {
  "kernelspec": {
   "display_name": "multimodal-xrdct",
   "language": "python",
   "name": "python3"
  },
  "language_info": {
   "codemirror_mode": {
    "name": "ipython",
    "version": 3
   },
   "file_extension": ".py",
   "mimetype": "text/x-python",
   "name": "python",
   "nbconvert_exporter": "python",
   "pygments_lexer": "ipython3",
   "version": "3.12.7"
  }
 },
 "nbformat": 4,
 "nbformat_minor": 5
}
